{
 "cells": [
  {
   "cell_type": "markdown",
   "id": "5a6769ba-0ef8-4c84-a0ca-4955968b2b00",
   "metadata": {},
   "source": [
    "# <center>Ionosphere Classification"
   ]
  },
  {
   "cell_type": "markdown",
   "id": "e3fc6fff-8356-4416-9394-e11d604ada09",
   "metadata": {},
   "source": [
    "The\n",
    "dataset describes radar returns where the target was free electrons in the ionosphere. It is a\n",
    "binary classification problem where positive cases (g for good) show evidence of some type\n",
    "of structure in the ionosphere and negative cases (b for bad) do not. There are 34 attributes and 351 observations.\n",
    "\n",
    "\n",
    "Dataset can download directly from the UCI Machine Learning\n",
    "repository. https://archive.ics.uci.edu/dataset/52/ionosphere"
   ]
  },
  {
   "cell_type": "code",
   "execution_count": 1,
   "id": "e8303366-d5b2-40bc-8b50-07e3ff4e2ab8",
   "metadata": {},
   "outputs": [],
   "source": [
    "# loading libraries\n",
    "import numpy as np\n",
    "import pandas as pd\n",
    "import math as m\n",
    "from keras.models import Sequential\n",
    "from keras.layers import Dense\n",
    "from keras.optimizers import SGD\n",
    "from sklearn.preprocessing import LabelEncoder\n",
    "from keras.callbacks import LearningRateScheduler"
   ]
  },
  {
   "cell_type": "code",
   "execution_count": 2,
   "id": "3191e365-2955-4fde-a79f-3db1eb4aaf4e",
   "metadata": {},
   "outputs": [],
   "source": [
    "# fix random seed for reproducibility\n",
    "seed = 7\n",
    "np.random.seed(seed)"
   ]
  },
  {
   "cell_type": "code",
   "execution_count": 3,
   "id": "2c45301a-22d8-42f5-8fac-dc768a54071c",
   "metadata": {},
   "outputs": [],
   "source": [
    "# load dataset\n",
    "df = pd.read_csv('ionosphere.csv', header=None)\n",
    "df = df.values"
   ]
  },
  {
   "cell_type": "code",
   "execution_count": 4,
   "id": "258e6b7a-d10c-4810-a95a-d05f7a159fff",
   "metadata": {},
   "outputs": [],
   "source": [
    "# split into input (X) and output (Y) variables\n",
    "X = df[:, 0:-1].astype(float)\n",
    "y = df[:,-1]"
   ]
  },
  {
   "cell_type": "code",
   "execution_count": 5,
   "id": "7c0c93fe-e2f6-48d7-92be-ac3f5e5cd6ff",
   "metadata": {},
   "outputs": [],
   "source": [
    "# encode class values as integers\n",
    "encoder = LabelEncoder()\n",
    "encoder.fit(y)\n",
    "y = encoder.transform(y)"
   ]
  },
  {
   "cell_type": "code",
   "execution_count": 6,
   "id": "97d1ae1b-915c-4fb6-a528-ff3e9553df8b",
   "metadata": {},
   "outputs": [],
   "source": [
    "# create model\n",
    "model = Sequential()\n",
    "model.add(Dense(34, input_dim=34, kernel_initializer='normal', activation='relu'))\n",
    "model.add(Dense(1, kernel_initializer='normal', activation='sigmoid'))\n",
    "\n",
    "# Compile model\n",
    "epochs = 50\n",
    "learning_rate = 0.1\n",
    "decay = learning_rate/epochs\n",
    "momentum = 0.8\n",
    "sgd = SGD(learning_rate=learning_rate, momentum=momentum, decay=decay, nesterov=False)\n",
    "model.compile(loss='binary_crossentropy', optimizer=sgd, metrics=['accuracy'])"
   ]
  },
  {
   "cell_type": "code",
   "execution_count": 7,
   "id": "b19290d4-40ce-471e-bdd5-d3c7dc47bd35",
   "metadata": {},
   "outputs": [
    {
     "name": "stdout",
     "output_type": "stream",
     "text": [
      "Epoch 1/50\n",
      "9/9 - 1s - loss: 0.6844 - accuracy: 0.5489 - val_loss: 0.6156 - val_accuracy: 0.9052 - 707ms/epoch - 79ms/step\n",
      "Epoch 2/50\n",
      "9/9 - 0s - loss: 0.6327 - accuracy: 0.7745 - val_loss: 0.5488 - val_accuracy: 0.8966 - 66ms/epoch - 7ms/step\n",
      "Epoch 3/50\n",
      "9/9 - 0s - loss: 0.5546 - accuracy: 0.8128 - val_loss: 0.4466 - val_accuracy: 0.9138 - 59ms/epoch - 7ms/step\n",
      "Epoch 4/50\n",
      "9/9 - 0s - loss: 0.4663 - accuracy: 0.8213 - val_loss: 0.3955 - val_accuracy: 0.9310 - 51ms/epoch - 6ms/step\n",
      "Epoch 5/50\n",
      "9/9 - 0s - loss: 0.3902 - accuracy: 0.8766 - val_loss: 0.3753 - val_accuracy: 0.9138 - 57ms/epoch - 6ms/step\n",
      "Epoch 6/50\n",
      "9/9 - 0s - loss: 0.3276 - accuracy: 0.8936 - val_loss: 0.2511 - val_accuracy: 0.9483 - 57ms/epoch - 6ms/step\n",
      "Epoch 7/50\n",
      "9/9 - 0s - loss: 0.2857 - accuracy: 0.8851 - val_loss: 0.2630 - val_accuracy: 0.9310 - 50ms/epoch - 6ms/step\n",
      "Epoch 8/50\n",
      "9/9 - 0s - loss: 0.2526 - accuracy: 0.9021 - val_loss: 0.2862 - val_accuracy: 0.9138 - 57ms/epoch - 6ms/step\n",
      "Epoch 9/50\n",
      "9/9 - 0s - loss: 0.2414 - accuracy: 0.9021 - val_loss: 0.2436 - val_accuracy: 0.9310 - 53ms/epoch - 6ms/step\n",
      "Epoch 10/50\n",
      "9/9 - 0s - loss: 0.2235 - accuracy: 0.9064 - val_loss: 0.2247 - val_accuracy: 0.9310 - 49ms/epoch - 5ms/step\n",
      "Epoch 11/50\n",
      "9/9 - 0s - loss: 0.2070 - accuracy: 0.9149 - val_loss: 0.2802 - val_accuracy: 0.9138 - 54ms/epoch - 6ms/step\n",
      "Epoch 12/50\n",
      "9/9 - 0s - loss: 0.1952 - accuracy: 0.9191 - val_loss: 0.1518 - val_accuracy: 0.9914 - 54ms/epoch - 6ms/step\n",
      "Epoch 13/50\n",
      "9/9 - 0s - loss: 0.1732 - accuracy: 0.9404 - val_loss: 0.1175 - val_accuracy: 0.9828 - 51ms/epoch - 6ms/step\n",
      "Epoch 14/50\n",
      "9/9 - 0s - loss: 0.1713 - accuracy: 0.9319 - val_loss: 0.1146 - val_accuracy: 0.9828 - 54ms/epoch - 6ms/step\n",
      "Epoch 15/50\n",
      "9/9 - 0s - loss: 0.1726 - accuracy: 0.9277 - val_loss: 0.2686 - val_accuracy: 0.9052 - 57ms/epoch - 6ms/step\n",
      "Epoch 16/50\n",
      "9/9 - 0s - loss: 0.1632 - accuracy: 0.9404 - val_loss: 0.1036 - val_accuracy: 0.9914 - 78ms/epoch - 9ms/step\n",
      "Epoch 17/50\n",
      "9/9 - 0s - loss: 0.1387 - accuracy: 0.9532 - val_loss: 0.1022 - val_accuracy: 0.9828 - 57ms/epoch - 6ms/step\n",
      "Epoch 18/50\n",
      "9/9 - 0s - loss: 0.1412 - accuracy: 0.9447 - val_loss: 0.1460 - val_accuracy: 0.9741 - 53ms/epoch - 6ms/step\n",
      "Epoch 19/50\n",
      "9/9 - 0s - loss: 0.1411 - accuracy: 0.9447 - val_loss: 0.1271 - val_accuracy: 0.9741 - 51ms/epoch - 6ms/step\n",
      "Epoch 20/50\n",
      "9/9 - 0s - loss: 0.1267 - accuracy: 0.9532 - val_loss: 0.1041 - val_accuracy: 0.9914 - 57ms/epoch - 6ms/step\n",
      "Epoch 21/50\n",
      "9/9 - 0s - loss: 0.1155 - accuracy: 0.9660 - val_loss: 0.1018 - val_accuracy: 0.9914 - 55ms/epoch - 6ms/step\n",
      "Epoch 22/50\n",
      "9/9 - 0s - loss: 0.1109 - accuracy: 0.9617 - val_loss: 0.0916 - val_accuracy: 0.9914 - 50ms/epoch - 6ms/step\n",
      "Epoch 23/50\n",
      "9/9 - 0s - loss: 0.1079 - accuracy: 0.9660 - val_loss: 0.1278 - val_accuracy: 0.9828 - 57ms/epoch - 6ms/step\n",
      "Epoch 24/50\n",
      "9/9 - 0s - loss: 0.1023 - accuracy: 0.9660 - val_loss: 0.0972 - val_accuracy: 0.9914 - 50ms/epoch - 6ms/step\n",
      "Epoch 25/50\n",
      "9/9 - 0s - loss: 0.1012 - accuracy: 0.9660 - val_loss: 0.0909 - val_accuracy: 0.9914 - 55ms/epoch - 6ms/step\n",
      "Epoch 26/50\n",
      "9/9 - 0s - loss: 0.0980 - accuracy: 0.9660 - val_loss: 0.0986 - val_accuracy: 0.9914 - 54ms/epoch - 6ms/step\n",
      "Epoch 27/50\n",
      "9/9 - 0s - loss: 0.0968 - accuracy: 0.9745 - val_loss: 0.1023 - val_accuracy: 0.9828 - 52ms/epoch - 6ms/step\n",
      "Epoch 28/50\n",
      "9/9 - 0s - loss: 0.0923 - accuracy: 0.9702 - val_loss: 0.0934 - val_accuracy: 0.9914 - 55ms/epoch - 6ms/step\n",
      "Epoch 29/50\n",
      "9/9 - 0s - loss: 0.0897 - accuracy: 0.9745 - val_loss: 0.0829 - val_accuracy: 0.9914 - 56ms/epoch - 6ms/step\n",
      "Epoch 30/50\n",
      "9/9 - 0s - loss: 0.0935 - accuracy: 0.9745 - val_loss: 0.1095 - val_accuracy: 0.9828 - 53ms/epoch - 6ms/step\n",
      "Epoch 31/50\n",
      "9/9 - 0s - loss: 0.0857 - accuracy: 0.9702 - val_loss: 0.0710 - val_accuracy: 0.9914 - 52ms/epoch - 6ms/step\n",
      "Epoch 32/50\n",
      "9/9 - 0s - loss: 0.0816 - accuracy: 0.9830 - val_loss: 0.0967 - val_accuracy: 0.9914 - 55ms/epoch - 6ms/step\n",
      "Epoch 33/50\n",
      "9/9 - 0s - loss: 0.0804 - accuracy: 0.9787 - val_loss: 0.0962 - val_accuracy: 0.9914 - 60ms/epoch - 7ms/step\n",
      "Epoch 34/50\n",
      "9/9 - 0s - loss: 0.0789 - accuracy: 0.9787 - val_loss: 0.1072 - val_accuracy: 0.9828 - 52ms/epoch - 6ms/step\n",
      "Epoch 35/50\n",
      "9/9 - 0s - loss: 0.0844 - accuracy: 0.9745 - val_loss: 0.0626 - val_accuracy: 0.9914 - 56ms/epoch - 6ms/step\n",
      "Epoch 36/50\n",
      "9/9 - 0s - loss: 0.0877 - accuracy: 0.9660 - val_loss: 0.1290 - val_accuracy: 0.9655 - 56ms/epoch - 6ms/step\n",
      "Epoch 37/50\n",
      "9/9 - 0s - loss: 0.0778 - accuracy: 0.9787 - val_loss: 0.0763 - val_accuracy: 0.9914 - 53ms/epoch - 6ms/step\n",
      "Epoch 38/50\n",
      "9/9 - 0s - loss: 0.0717 - accuracy: 0.9830 - val_loss: 0.0888 - val_accuracy: 0.9914 - 58ms/epoch - 6ms/step\n",
      "Epoch 39/50\n",
      "9/9 - 0s - loss: 0.0726 - accuracy: 0.9787 - val_loss: 0.0883 - val_accuracy: 0.9914 - 51ms/epoch - 6ms/step\n",
      "Epoch 40/50\n",
      "9/9 - 0s - loss: 0.0728 - accuracy: 0.9830 - val_loss: 0.0655 - val_accuracy: 0.9914 - 51ms/epoch - 6ms/step\n",
      "Epoch 41/50\n",
      "9/9 - 0s - loss: 0.0736 - accuracy: 0.9745 - val_loss: 0.0972 - val_accuracy: 0.9914 - 54ms/epoch - 6ms/step\n",
      "Epoch 42/50\n",
      "9/9 - 0s - loss: 0.0710 - accuracy: 0.9787 - val_loss: 0.0854 - val_accuracy: 0.9914 - 51ms/epoch - 6ms/step\n",
      "Epoch 43/50\n",
      "9/9 - 0s - loss: 0.0655 - accuracy: 0.9830 - val_loss: 0.0815 - val_accuracy: 0.9914 - 55ms/epoch - 6ms/step\n",
      "Epoch 44/50\n",
      "9/9 - 0s - loss: 0.0645 - accuracy: 0.9830 - val_loss: 0.0846 - val_accuracy: 0.9914 - 57ms/epoch - 6ms/step\n",
      "Epoch 45/50\n",
      "9/9 - 0s - loss: 0.0630 - accuracy: 0.9787 - val_loss: 0.0768 - val_accuracy: 0.9914 - 50ms/epoch - 6ms/step\n",
      "Epoch 46/50\n",
      "9/9 - 0s - loss: 0.0613 - accuracy: 0.9830 - val_loss: 0.0782 - val_accuracy: 0.9914 - 55ms/epoch - 6ms/step\n",
      "Epoch 47/50\n",
      "9/9 - 0s - loss: 0.0621 - accuracy: 0.9830 - val_loss: 0.0693 - val_accuracy: 0.9914 - 50ms/epoch - 6ms/step\n",
      "Epoch 48/50\n",
      "9/9 - 0s - loss: 0.0618 - accuracy: 0.9830 - val_loss: 0.0809 - val_accuracy: 0.9914 - 55ms/epoch - 6ms/step\n",
      "Epoch 49/50\n",
      "9/9 - 0s - loss: 0.0585 - accuracy: 0.9830 - val_loss: 0.0683 - val_accuracy: 0.9914 - 60ms/epoch - 7ms/step\n",
      "Epoch 50/50\n",
      "9/9 - 0s - loss: 0.0607 - accuracy: 0.9830 - val_loss: 0.0774 - val_accuracy: 0.9914 - 51ms/epoch - 6ms/step\n"
     ]
    },
    {
     "data": {
      "text/plain": [
       "<keras.callbacks.History at 0x160a1f135b0>"
      ]
     },
     "execution_count": 7,
     "metadata": {},
     "output_type": "execute_result"
    }
   ],
   "source": [
    "# Fit the model\n",
    "model.fit(X,y, validation_split=0.33, epochs=50, batch_size=28, verbose=2)"
   ]
  },
  {
   "cell_type": "markdown",
   "id": "400eb276-b033-433b-983f-ea5a41dfdd72",
   "metadata": {},
   "source": [
    "The model is trained on 67% of the dataset and evaluated using a 33% validation dataset.\n",
    "It shows a classification accuracy of 99.14%."
   ]
  },
  {
   "cell_type": "markdown",
   "id": "0c0e29cf-c50a-4ba0-80af-278c43aff38c",
   "metadata": {},
   "source": [
    "### Drop-Based Learning Rate Schedule"
   ]
  },
  {
   "cell_type": "code",
   "execution_count": 8,
   "id": "bd08426d-05c9-4454-8db6-2111e2d6d988",
   "metadata": {},
   "outputs": [],
   "source": [
    "def step_decay(epoch):\n",
    "    lr = 0.1\n",
    "    drop = 0.5\n",
    "    epochs_drop = 10.0\n",
    "    lrate = lr*m.pow(drop, m.floor(1+epoch/epochs_drop))\n",
    "    return lrate"
   ]
  },
  {
   "cell_type": "code",
   "execution_count": 9,
   "id": "772a4a8b-4eaf-4b9e-88bc-048f6d01770c",
   "metadata": {},
   "outputs": [],
   "source": [
    "sgd = SGD(learning_rate=0.0, decay=0.0, momentum=0.9, nesterov=False)\n",
    "model.compile(loss='binary_crossentropy', optimizer=sgd, metrics=['accuracy'])"
   ]
  },
  {
   "cell_type": "code",
   "execution_count": 10,
   "id": "3a8ebaaf-7d32-4f35-a5ef-08b3e7e5da4e",
   "metadata": {},
   "outputs": [],
   "source": [
    "lrate = LearningRateScheduler(step_decay)\n",
    "callback_list = [lrate]"
   ]
  },
  {
   "cell_type": "code",
   "execution_count": 11,
   "id": "4d0feaff-5d3b-48c9-8442-c558398d08ba",
   "metadata": {},
   "outputs": [
    {
     "name": "stdout",
     "output_type": "stream",
     "text": [
      "Epoch 1/50\n",
      "9/9 - 1s - loss: 0.0566 - accuracy: 0.9830 - val_loss: 0.0655 - val_accuracy: 0.9914 - lr: 0.0500 - 551ms/epoch - 61ms/step\n",
      "Epoch 2/50\n",
      "9/9 - 0s - loss: 0.0573 - accuracy: 0.9830 - val_loss: 0.0853 - val_accuracy: 0.9828 - lr: 0.0500 - 60ms/epoch - 7ms/step\n",
      "Epoch 3/50\n",
      "9/9 - 0s - loss: 0.0564 - accuracy: 0.9872 - val_loss: 0.0703 - val_accuracy: 0.9914 - lr: 0.0500 - 50ms/epoch - 6ms/step\n",
      "Epoch 4/50\n",
      "9/9 - 0s - loss: 0.0531 - accuracy: 0.9872 - val_loss: 0.0794 - val_accuracy: 0.9914 - lr: 0.0500 - 50ms/epoch - 6ms/step\n",
      "Epoch 5/50\n",
      "9/9 - 0s - loss: 0.0519 - accuracy: 0.9915 - val_loss: 0.0552 - val_accuracy: 0.9914 - lr: 0.0500 - 50ms/epoch - 6ms/step\n",
      "Epoch 6/50\n",
      "9/9 - 0s - loss: 0.0544 - accuracy: 0.9830 - val_loss: 0.0782 - val_accuracy: 0.9914 - lr: 0.0500 - 51ms/epoch - 6ms/step\n",
      "Epoch 7/50\n",
      "9/9 - 0s - loss: 0.0494 - accuracy: 0.9872 - val_loss: 0.0719 - val_accuracy: 0.9914 - lr: 0.0500 - 58ms/epoch - 6ms/step\n",
      "Epoch 8/50\n",
      "9/9 - 0s - loss: 0.0483 - accuracy: 0.9872 - val_loss: 0.0619 - val_accuracy: 0.9914 - lr: 0.0500 - 52ms/epoch - 6ms/step\n",
      "Epoch 9/50\n",
      "9/9 - 0s - loss: 0.0462 - accuracy: 0.9915 - val_loss: 0.0742 - val_accuracy: 0.9914 - lr: 0.0500 - 56ms/epoch - 6ms/step\n",
      "Epoch 10/50\n",
      "9/9 - 0s - loss: 0.0464 - accuracy: 0.9915 - val_loss: 0.0709 - val_accuracy: 0.9914 - lr: 0.0500 - 49ms/epoch - 5ms/step\n",
      "Epoch 11/50\n",
      "9/9 - 0s - loss: 0.0468 - accuracy: 0.9915 - val_loss: 0.0814 - val_accuracy: 0.9914 - lr: 0.0250 - 51ms/epoch - 6ms/step\n",
      "Epoch 12/50\n",
      "9/9 - 0s - loss: 0.0410 - accuracy: 0.9915 - val_loss: 0.0580 - val_accuracy: 0.9914 - lr: 0.0250 - 56ms/epoch - 6ms/step\n",
      "Epoch 13/50\n",
      "9/9 - 0s - loss: 0.0452 - accuracy: 0.9872 - val_loss: 0.0644 - val_accuracy: 0.9914 - lr: 0.0250 - 52ms/epoch - 6ms/step\n",
      "Epoch 14/50\n",
      "9/9 - 0s - loss: 0.0439 - accuracy: 0.9915 - val_loss: 0.0792 - val_accuracy: 0.9828 - lr: 0.0250 - 49ms/epoch - 5ms/step\n",
      "Epoch 15/50\n",
      "9/9 - 0s - loss: 0.0395 - accuracy: 0.9915 - val_loss: 0.0578 - val_accuracy: 0.9914 - lr: 0.0250 - 51ms/epoch - 6ms/step\n",
      "Epoch 16/50\n",
      "9/9 - 0s - loss: 0.0436 - accuracy: 0.9915 - val_loss: 0.0687 - val_accuracy: 0.9914 - lr: 0.0250 - 54ms/epoch - 6ms/step\n",
      "Epoch 17/50\n",
      "9/9 - 0s - loss: 0.0401 - accuracy: 0.9915 - val_loss: 0.0706 - val_accuracy: 0.9914 - lr: 0.0250 - 51ms/epoch - 6ms/step\n",
      "Epoch 18/50\n",
      "9/9 - 0s - loss: 0.0405 - accuracy: 0.9915 - val_loss: 0.0713 - val_accuracy: 0.9828 - lr: 0.0250 - 55ms/epoch - 6ms/step\n",
      "Epoch 19/50\n",
      "9/9 - 0s - loss: 0.0397 - accuracy: 0.9915 - val_loss: 0.0653 - val_accuracy: 0.9828 - lr: 0.0250 - 52ms/epoch - 6ms/step\n",
      "Epoch 20/50\n",
      "9/9 - 0s - loss: 0.0387 - accuracy: 0.9957 - val_loss: 0.0663 - val_accuracy: 0.9914 - lr: 0.0250 - 51ms/epoch - 6ms/step\n",
      "Epoch 21/50\n",
      "9/9 - 0s - loss: 0.0379 - accuracy: 0.9957 - val_loss: 0.0682 - val_accuracy: 0.9914 - lr: 0.0125 - 53ms/epoch - 6ms/step\n",
      "Epoch 22/50\n",
      "9/9 - 0s - loss: 0.0378 - accuracy: 0.9915 - val_loss: 0.0717 - val_accuracy: 0.9828 - lr: 0.0125 - 53ms/epoch - 6ms/step\n",
      "Epoch 23/50\n",
      "9/9 - 0s - loss: 0.0379 - accuracy: 0.9915 - val_loss: 0.0702 - val_accuracy: 0.9828 - lr: 0.0125 - 52ms/epoch - 6ms/step\n",
      "Epoch 24/50\n",
      "9/9 - 0s - loss: 0.0377 - accuracy: 0.9915 - val_loss: 0.0635 - val_accuracy: 0.9914 - lr: 0.0125 - 58ms/epoch - 6ms/step\n",
      "Epoch 25/50\n",
      "9/9 - 0s - loss: 0.0381 - accuracy: 0.9957 - val_loss: 0.0691 - val_accuracy: 0.9828 - lr: 0.0125 - 55ms/epoch - 6ms/step\n",
      "Epoch 26/50\n",
      "9/9 - 0s - loss: 0.0369 - accuracy: 0.9915 - val_loss: 0.0670 - val_accuracy: 0.9828 - lr: 0.0125 - 50ms/epoch - 6ms/step\n",
      "Epoch 27/50\n",
      "9/9 - 0s - loss: 0.0375 - accuracy: 0.9957 - val_loss: 0.0640 - val_accuracy: 0.9828 - lr: 0.0125 - 50ms/epoch - 6ms/step\n",
      "Epoch 28/50\n",
      "9/9 - 0s - loss: 0.0367 - accuracy: 0.9957 - val_loss: 0.0706 - val_accuracy: 0.9828 - lr: 0.0125 - 67ms/epoch - 7ms/step\n",
      "Epoch 29/50\n",
      "9/9 - 0s - loss: 0.0365 - accuracy: 0.9915 - val_loss: 0.0683 - val_accuracy: 0.9828 - lr: 0.0125 - 66ms/epoch - 7ms/step\n",
      "Epoch 30/50\n",
      "9/9 - 0s - loss: 0.0365 - accuracy: 0.9957 - val_loss: 0.0648 - val_accuracy: 0.9828 - lr: 0.0125 - 50ms/epoch - 6ms/step\n",
      "Epoch 31/50\n",
      "9/9 - 0s - loss: 0.0361 - accuracy: 0.9915 - val_loss: 0.0683 - val_accuracy: 0.9828 - lr: 0.0063 - 50ms/epoch - 6ms/step\n",
      "Epoch 32/50\n",
      "9/9 - 0s - loss: 0.0357 - accuracy: 0.9915 - val_loss: 0.0686 - val_accuracy: 0.9828 - lr: 0.0063 - 67ms/epoch - 7ms/step\n",
      "Epoch 33/50\n",
      "9/9 - 0s - loss: 0.0357 - accuracy: 0.9957 - val_loss: 0.0679 - val_accuracy: 0.9828 - lr: 0.0063 - 50ms/epoch - 6ms/step\n",
      "Epoch 34/50\n",
      "9/9 - 0s - loss: 0.0355 - accuracy: 0.9957 - val_loss: 0.0687 - val_accuracy: 0.9828 - lr: 0.0063 - 67ms/epoch - 7ms/step\n",
      "Epoch 35/50\n",
      "9/9 - 0s - loss: 0.0355 - accuracy: 0.9957 - val_loss: 0.0680 - val_accuracy: 0.9828 - lr: 0.0063 - 50ms/epoch - 6ms/step\n",
      "Epoch 36/50\n",
      "9/9 - 0s - loss: 0.0354 - accuracy: 0.9915 - val_loss: 0.0694 - val_accuracy: 0.9828 - lr: 0.0063 - 53ms/epoch - 6ms/step\n",
      "Epoch 37/50\n",
      "9/9 - 0s - loss: 0.0358 - accuracy: 0.9915 - val_loss: 0.0660 - val_accuracy: 0.9828 - lr: 0.0063 - 49ms/epoch - 5ms/step\n",
      "Epoch 38/50\n",
      "9/9 - 0s - loss: 0.0353 - accuracy: 0.9915 - val_loss: 0.0694 - val_accuracy: 0.9828 - lr: 0.0063 - 56ms/epoch - 6ms/step\n",
      "Epoch 39/50\n",
      "9/9 - 0s - loss: 0.0352 - accuracy: 0.9957 - val_loss: 0.0699 - val_accuracy: 0.9828 - lr: 0.0063 - 51ms/epoch - 6ms/step\n",
      "Epoch 40/50\n",
      "9/9 - 0s - loss: 0.0351 - accuracy: 0.9957 - val_loss: 0.0670 - val_accuracy: 0.9828 - lr: 0.0063 - 57ms/epoch - 6ms/step\n",
      "Epoch 41/50\n",
      "9/9 - 0s - loss: 0.0350 - accuracy: 0.9957 - val_loss: 0.0668 - val_accuracy: 0.9828 - lr: 0.0031 - 58ms/epoch - 6ms/step\n",
      "Epoch 42/50\n",
      "9/9 - 0s - loss: 0.0349 - accuracy: 0.9957 - val_loss: 0.0665 - val_accuracy: 0.9828 - lr: 0.0031 - 58ms/epoch - 6ms/step\n",
      "Epoch 43/50\n",
      "9/9 - 0s - loss: 0.0350 - accuracy: 0.9957 - val_loss: 0.0684 - val_accuracy: 0.9828 - lr: 0.0031 - 50ms/epoch - 6ms/step\n",
      "Epoch 44/50\n",
      "9/9 - 0s - loss: 0.0348 - accuracy: 0.9957 - val_loss: 0.0680 - val_accuracy: 0.9828 - lr: 0.0031 - 56ms/epoch - 6ms/step\n",
      "Epoch 45/50\n",
      "9/9 - 0s - loss: 0.0349 - accuracy: 0.9957 - val_loss: 0.0698 - val_accuracy: 0.9828 - lr: 0.0031 - 50ms/epoch - 6ms/step\n",
      "Epoch 46/50\n",
      "9/9 - 0s - loss: 0.0347 - accuracy: 0.9957 - val_loss: 0.0687 - val_accuracy: 0.9828 - lr: 0.0031 - 67ms/epoch - 7ms/step\n",
      "Epoch 47/50\n",
      "9/9 - 0s - loss: 0.0348 - accuracy: 0.9957 - val_loss: 0.0678 - val_accuracy: 0.9828 - lr: 0.0031 - 50ms/epoch - 6ms/step\n",
      "Epoch 48/50\n",
      "9/9 - 0s - loss: 0.0347 - accuracy: 0.9957 - val_loss: 0.0688 - val_accuracy: 0.9828 - lr: 0.0031 - 49ms/epoch - 5ms/step\n",
      "Epoch 49/50\n",
      "9/9 - 0s - loss: 0.0346 - accuracy: 0.9957 - val_loss: 0.0674 - val_accuracy: 0.9828 - lr: 0.0031 - 66ms/epoch - 7ms/step\n",
      "Epoch 50/50\n",
      "9/9 - 0s - loss: 0.0346 - accuracy: 0.9957 - val_loss: 0.0677 - val_accuracy: 0.9828 - lr: 0.0031 - 50ms/epoch - 6ms/step\n"
     ]
    },
    {
     "data": {
      "text/plain": [
       "<keras.callbacks.History at 0x160a23b9360>"
      ]
     },
     "execution_count": 11,
     "metadata": {},
     "output_type": "execute_result"
    }
   ],
   "source": [
    "model.fit(X,y, validation_split=0.33, epochs=50, batch_size=28, callbacks=callback_list, verbose=2)"
   ]
  },
  {
   "cell_type": "code",
   "execution_count": null,
   "id": "ec9e616d-2ab9-4cd4-ba96-85250264dd08",
   "metadata": {},
   "outputs": [],
   "source": []
  }
 ],
 "metadata": {
  "kernelspec": {
   "display_name": "ml_venv",
   "language": "python",
   "name": "ml_venv"
  },
  "language_info": {
   "codemirror_mode": {
    "name": "ipython",
    "version": 3
   },
   "file_extension": ".py",
   "mimetype": "text/x-python",
   "name": "python",
   "nbconvert_exporter": "python",
   "pygments_lexer": "ipython3",
   "version": "3.10.11"
  }
 },
 "nbformat": 4,
 "nbformat_minor": 5
}
