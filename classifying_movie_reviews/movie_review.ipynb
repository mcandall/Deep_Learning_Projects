{
 "cells": [
  {
   "cell_type": "markdown",
   "id": "803ccd96-9f0c-43a9-a364-62341263346b",
   "metadata": {},
   "source": [
    "# <center> ****Sentiment Analysis on IMDB Movie Reviews****"
   ]
  },
  {
   "cell_type": "markdown",
   "id": "d50dcddc-793e-41b7-981f-625fb68f4c2f",
   "metadata": {},
   "source": [
    "## **Introduction:**\n",
    "\n",
    "In an era dominated by digital platforms, user-generated content shapes opinions and influences decisions. Understanding sentiments within this vast sea of information is crucial. The \"Sentiment Analysis on IMDB Movie Reviews\" project embarks on the journey of extracting sentiments from movie reviews to classify them as positive or negative.\n",
    "\n",
    "## **Objective:**\n",
    "\n",
    "The primary objective of this project is to develop an Artificial Neural Network (ANN) model that can effectively distinguish sentiments expressed in movie reviews. Leveraging the IMDB dataset, a collection of 50,000 reviews categorized as positive or negative, the model will undergo training to comprehend the intricate patterns and nuances of human expression.\n",
    "\n",
    "## **Dataset:**\n",
    "\n",
    "The IMDB dataset, provided by Keras, is a rich source of real-world movie reviews. Each review has been meticulously preprocessed, representing sequences of integers corresponding to specific words. The dataset is divided into training and testing sets, ensuring a robust evaluation of the model's performance.\n",
    "\n",
    "## **Methodology:**\n",
    "\n",
    "The project employs a deep learning approach, utilizing an ANN architecture to capture the intricate relationships and contextual dependencies within the textual data. By converting words into numerical sequences, the model learns to discern positive and negative sentiments, ultimately providing a tool to automate the sentiment analysis of movie reviews.\n",
    "\n",
    "## **Why Sentiment Analysis?**\n",
    "\n",
    "Sentiment analysis holds immense practical significance in various domains, including marketing, public opinion analysis, and product development. This project not only hones your skills in neural network implementation but also equips you with a powerful tool for extracting valuable insights from user-generated content.\n",
    "\n",
    "## **Conclusion:**\n",
    "\n",
    "By the end of this project, you will have developed a robust sentiment analysis model, enhancing your proficiency in deep learning and natural language processing. This endeavor contributes not only to your technical repertoire but also to the broader landscape of sentiment analysis applications."
   ]
  },
  {
   "cell_type": "markdown",
   "id": "c13b85e6-24ec-499f-a2b7-04b0a411811e",
   "metadata": {
    "tags": []
   },
   "source": [
    "## Loading tn imdb sataset"
   ]
  },
  {
   "cell_type": "markdown",
   "id": "ed5019e5-bed4-4d39-a216-b9270ecc5c88",
   "metadata": {},
   "source": [
    "Keras includes the IMDB dataset, which is already preprocessed. The reviews, initially comprised of sequences of words, have been transformed into sequences of integers. Each integer corresponds to a specific word in a dictionary."
   ]
  },
  {
   "cell_type": "code",
   "execution_count": 1,
   "id": "5730cb35-1bcc-4436-8343-182ed098af79",
   "metadata": {
    "tags": []
   },
   "outputs": [
    {
     "name": "stdout",
     "output_type": "stream",
     "text": [
      "WARNING:tensorflow:From C:\\Users\\marlo\\OneDrive\\Documentos\\Projects\\Practice\\ML_Projects\\ML_venv\\lib\\site-packages\\keras\\src\\losses.py:2976: The name tf.losses.sparse_softmax_cross_entropy is deprecated. Please use tf.compat.v1.losses.sparse_softmax_cross_entropy instead.\n",
      "\n"
     ]
    }
   ],
   "source": [
    "from keras.datasets import imdb"
   ]
  },
  {
   "cell_type": "code",
   "execution_count": 2,
   "id": "78c90f88-705e-40bd-9c72-3b24f01cb071",
   "metadata": {},
   "outputs": [],
   "source": [
    "(train_data, train_labels), (test_data, test_labels) = imdb.load_data(num_words=10000)"
   ]
  },
  {
   "cell_type": "markdown",
   "id": "4f553dbc-e5fa-47db-a081-790fd1e51a0f",
   "metadata": {},
   "source": [
    "The parameter \"num_words=10000\" signifies that only the top 10,000 most frequently appearing words in the training data will be retained. Less common words will be excluded, streamlining the vector data to a manageable size."
   ]
  },
  {
   "cell_type": "code",
   "execution_count": 3,
   "id": "c2584a6a-1976-492b-9080-01efa61768b1",
   "metadata": {},
   "outputs": [
    {
     "data": {
      "text/plain": [
       "9999"
      ]
     },
     "execution_count": 3,
     "metadata": {},
     "output_type": "execute_result"
    }
   ],
   "source": [
    "max([max(sequence) for sequence in train_data])"
   ]
  },
  {
   "cell_type": "code",
   "execution_count": 4,
   "id": "1de26a2e-69b0-4e50-90b0-2daddef80288",
   "metadata": {},
   "outputs": [],
   "source": [
    "word_index = imdb.get_word_index()\n",
    "reverse_word_index = dict([(value, key) for (key, value) in word_index.items()])\n",
    "decoded_review = ' '.join([reverse_word_index.get(i-3, '?') for i in train_data[0]])"
   ]
  },
  {
   "cell_type": "markdown",
   "id": "9f98a155-e507-4f27-ad50-eb1c56884388",
   "metadata": {},
   "source": [
    "## Preparing the data"
   ]
  },
  {
   "cell_type": "code",
   "execution_count": 5,
   "id": "27767604-d996-44d6-99cb-143bf2210941",
   "metadata": {},
   "outputs": [],
   "source": [
    "import numpy as np\n",
    "\n",
    "def vectorize_sequences(sequences, dimension=10000):\n",
    "    results = np.zeros((len(sequences), dimension))\n",
    "    for i, sequence in enumerate(sequences):\n",
    "        results[i, sequence] = 1.\n",
    "        return results"
   ]
  },
  {
   "cell_type": "code",
   "execution_count": 6,
   "id": "bb1f38a7-5f69-4a6c-a16a-01bb8fe97bbe",
   "metadata": {},
   "outputs": [],
   "source": [
    "x_train = vectorize_sequences(train_data)\n",
    "x_test = vectorize_sequences(test_data)"
   ]
  },
  {
   "cell_type": "markdown",
   "id": "a7a8db28-87fa-4233-adb9-0f4b76ac543c",
   "metadata": {},
   "source": [
    "Here’s what the samples look like now:"
   ]
  },
  {
   "cell_type": "code",
   "execution_count": 7,
   "id": "b345b70a-88db-46a7-bd72-21e96eb48485",
   "metadata": {},
   "outputs": [
    {
     "data": {
      "text/plain": [
       "array([0., 1., 1., ..., 0., 0., 0.])"
      ]
     },
     "execution_count": 7,
     "metadata": {},
     "output_type": "execute_result"
    }
   ],
   "source": [
    "x_train[0]"
   ]
  },
  {
   "cell_type": "code",
   "execution_count": 8,
   "id": "6c2dfd7c-7fda-4640-86a5-e127f2f0d908",
   "metadata": {},
   "outputs": [],
   "source": [
    "# vectorizing the labels\n",
    "y_train = np.asarray(train_labels).astype('float32')\n",
    "y_test = np.asarray(test_labels).astype('float32')"
   ]
  },
  {
   "cell_type": "markdown",
   "id": "2695782a-3a67-4be9-9f51-4568b76854b9",
   "metadata": {},
   "source": [
    "## Building the network"
   ]
  },
  {
   "cell_type": "code",
   "execution_count": 9,
   "id": "83e19468-9918-45dd-9fdc-b6557ec02717",
   "metadata": {},
   "outputs": [
    {
     "name": "stdout",
     "output_type": "stream",
     "text": [
      "WARNING:tensorflow:From C:\\Users\\marlo\\OneDrive\\Documentos\\Projects\\Practice\\ML_Projects\\ML_venv\\lib\\site-packages\\keras\\src\\backend.py:873: The name tf.get_default_graph is deprecated. Please use tf.compat.v1.get_default_graph instead.\n",
      "\n"
     ]
    }
   ],
   "source": [
    "from keras import models, layers\n",
    "\n",
    "model = models.Sequential()\n",
    "model.add(layers.Dense(16, activation='relu', input_shape=(10000,)))\n",
    "model.add(layers.Dense(16, activation='relu'))\n",
    "model.add(layers.Dense(1, activation='sigmoid'))"
   ]
  },
  {
   "cell_type": "markdown",
   "id": "cef987fb-39b4-4e9c-bfce-f335924ed54d",
   "metadata": {},
   "source": [
    "##  Compiling the model"
   ]
  },
  {
   "cell_type": "code",
   "execution_count": 10,
   "id": "99e1af24-eb79-4f29-a67d-0304f6ad5abd",
   "metadata": {},
   "outputs": [
    {
     "name": "stdout",
     "output_type": "stream",
     "text": [
      "WARNING:tensorflow:From C:\\Users\\marlo\\OneDrive\\Documentos\\Projects\\Practice\\ML_Projects\\ML_venv\\lib\\site-packages\\keras\\src\\optimizers\\__init__.py:309: The name tf.train.Optimizer is deprecated. Please use tf.compat.v1.train.Optimizer instead.\n",
      "\n"
     ]
    }
   ],
   "source": [
    "from keras import optimizers, losses, metrics\n",
    "\n",
    "model.compile(optimizer='rmsprop',\n",
    "              loss='binary_crossentropy',\n",
    "              metrics=['acc'])"
   ]
  },
  {
   "cell_type": "markdown",
   "id": "a77dc1b5-3bc8-420a-9102-b79595d407a1",
   "metadata": {},
   "source": [
    "## Setting aside a validation set"
   ]
  },
  {
   "cell_type": "code",
   "execution_count": 11,
   "id": "ed216737-96c7-4102-b473-0f4d60e24707",
   "metadata": {},
   "outputs": [],
   "source": [
    "x_val = x_train[:10000]\n",
    "partial_x_train = x_train[10000:]\n",
    "y_val = y_train[:10000]\n",
    "partial_y_train = y_train[10000:]"
   ]
  },
  {
   "cell_type": "markdown",
   "id": "47d4f39b-8fd4-4824-bd2e-f4a9b90af02e",
   "metadata": {},
   "source": [
    "## Training your model"
   ]
  },
  {
   "cell_type": "code",
   "execution_count": 12,
   "id": "b2c188a7-d306-42a1-9953-911d4b03fd2b",
   "metadata": {},
   "outputs": [
    {
     "name": "stdout",
     "output_type": "stream",
     "text": [
      "Epoch 1/20\n",
      "WARNING:tensorflow:From C:\\Users\\marlo\\OneDrive\\Documentos\\Projects\\Practice\\ML_Projects\\ML_venv\\lib\\site-packages\\keras\\src\\utils\\tf_utils.py:492: The name tf.ragged.RaggedTensorValue is deprecated. Please use tf.compat.v1.ragged.RaggedTensorValue instead.\n",
      "\n",
      "WARNING:tensorflow:From C:\\Users\\marlo\\OneDrive\\Documentos\\Projects\\Practice\\ML_Projects\\ML_venv\\lib\\site-packages\\keras\\src\\engine\\base_layer_utils.py:384: The name tf.executing_eagerly_outside_functions is deprecated. Please use tf.compat.v1.executing_eagerly_outside_functions instead.\n",
      "\n",
      "30/30 [==============================] - 8s 87ms/step - loss: 0.6931 - acc: 0.5035 - val_loss: 0.6932 - val_acc: 0.4947\n",
      "Epoch 2/20\n",
      "30/30 [==============================] - 1s 20ms/step - loss: 0.6931 - acc: 0.5035 - val_loss: 0.6932 - val_acc: 0.4947\n",
      "Epoch 3/20\n",
      "30/30 [==============================] - 1s 21ms/step - loss: 0.6931 - acc: 0.5035 - val_loss: 0.6932 - val_acc: 0.4947\n",
      "Epoch 4/20\n",
      "30/30 [==============================] - 1s 23ms/step - loss: 0.6931 - acc: 0.5035 - val_loss: 0.6932 - val_acc: 0.4947\n",
      "Epoch 5/20\n",
      "30/30 [==============================] - 1s 18ms/step - loss: 0.6931 - acc: 0.5035 - val_loss: 0.6932 - val_acc: 0.4947\n",
      "Epoch 6/20\n",
      "30/30 [==============================] - 1s 18ms/step - loss: 0.6931 - acc: 0.5035 - val_loss: 0.6932 - val_acc: 0.4947\n",
      "Epoch 7/20\n",
      "30/30 [==============================] - 1s 18ms/step - loss: 0.6931 - acc: 0.5035 - val_loss: 0.6932 - val_acc: 0.4947\n",
      "Epoch 8/20\n",
      "30/30 [==============================] - 1s 19ms/step - loss: 0.6931 - acc: 0.5035 - val_loss: 0.6932 - val_acc: 0.4947\n",
      "Epoch 9/20\n",
      "30/30 [==============================] - 1s 21ms/step - loss: 0.6931 - acc: 0.5035 - val_loss: 0.6933 - val_acc: 0.4947\n",
      "Epoch 10/20\n",
      "30/30 [==============================] - 1s 21ms/step - loss: 0.6931 - acc: 0.5035 - val_loss: 0.6932 - val_acc: 0.4947\n",
      "Epoch 11/20\n",
      "30/30 [==============================] - 1s 19ms/step - loss: 0.6931 - acc: 0.5035 - val_loss: 0.6933 - val_acc: 0.4947\n",
      "Epoch 12/20\n",
      "30/30 [==============================] - 1s 23ms/step - loss: 0.6931 - acc: 0.5035 - val_loss: 0.6932 - val_acc: 0.4947\n",
      "Epoch 13/20\n",
      "30/30 [==============================] - 1s 21ms/step - loss: 0.6931 - acc: 0.5035 - val_loss: 0.6933 - val_acc: 0.4947\n",
      "Epoch 14/20\n",
      "30/30 [==============================] - 1s 19ms/step - loss: 0.6931 - acc: 0.5035 - val_loss: 0.6932 - val_acc: 0.4947\n",
      "Epoch 15/20\n",
      "30/30 [==============================] - 1s 18ms/step - loss: 0.6931 - acc: 0.5035 - val_loss: 0.6933 - val_acc: 0.4947\n",
      "Epoch 16/20\n",
      "30/30 [==============================] - 1s 18ms/step - loss: 0.6931 - acc: 0.5035 - val_loss: 0.6933 - val_acc: 0.4947\n",
      "Epoch 17/20\n",
      "30/30 [==============================] - 1s 17ms/step - loss: 0.6931 - acc: 0.5035 - val_loss: 0.6933 - val_acc: 0.4947\n",
      "Epoch 18/20\n",
      "30/30 [==============================] - 1s 17ms/step - loss: 0.6931 - acc: 0.5035 - val_loss: 0.6932 - val_acc: 0.4947\n",
      "Epoch 19/20\n",
      "30/30 [==============================] - 1s 18ms/step - loss: 0.6931 - acc: 0.5035 - val_loss: 0.6932 - val_acc: 0.4947\n",
      "Epoch 20/20\n",
      "30/30 [==============================] - 1s 35ms/step - loss: 0.6931 - acc: 0.5035 - val_loss: 0.6933 - val_acc: 0.4947\n"
     ]
    }
   ],
   "source": [
    "history = model.fit(partial_x_train,\n",
    "                    partial_y_train,\n",
    "                    epochs=20,\n",
    "                    batch_size=512,\n",
    "                    validation_data=(x_val, y_val))"
   ]
  },
  {
   "cell_type": "markdown",
   "id": "c4248fd8-7bd6-46d9-aa9d-d3257709f08b",
   "metadata": {},
   "source": [
    "## Plotting the training and validation loss"
   ]
  },
  {
   "cell_type": "code",
   "execution_count": 13,
   "id": "7bbd2619-6c7c-4547-8dd7-3ace8ce18eac",
   "metadata": {},
   "outputs": [
    {
     "data": {
      "image/png": "[encoded data removed]",
      "text/plain": [
       "<Figure size 640x480 with 1 Axes>"
      ]
     },
     "metadata": {},
     "output_type": "display_data"
    }
   ],
   "source": [
    "import matplotlib.pyplot as plt\n",
    "\n",
    "history_dict = history.history\n",
    "loss_values = history_dict['loss']\n",
    "val_loss_values = history_dict['val_loss']\n",
    "acc = history_dict['acc']\n",
    "\n",
    "epochs = range(1, len(acc) + 1)\n",
    "\n",
    "plt.plot(epochs, loss_values, 'bo', label='Training loss')\n",
    "plt.plot(epochs, val_loss_values, 'b', label='Validation loss')\n",
    "plt.title('Training and validation loss')\n",
    "plt.xlabel('Epochs')\n",
    "plt.ylabel('Loss')\n",
    "plt.legend()\n",
    "plt.show()"
   ]
  },
  {
   "cell_type": "code",
   "execution_count": 14,
   "id": "038f8927-b161-45cc-99a6-30c0c11c2fa5",
   "metadata": {},
   "outputs": [
    {
     "data": {
      "text/plain": [
       "dict_keys(['loss', 'acc', 'val_loss', 'val_acc'])"
      ]
     },
     "execution_count": 14,
     "metadata": {},
     "output_type": "execute_result"
    }
   ],
   "source": [
    "history_dict = history.history\n",
    "history_dict.keys()"
   ]
  },
  {
   "cell_type": "code",
   "execution_count": 15,
   "id": "80e2a7b6-0f56-482b-9912-4605eec7551d",
   "metadata": {},
   "outputs": [
    {
     "data": {
      "image/png": "[encoded data removed]",
      "text/plain": [
       "<Figure size 640x480 with 1 Axes>"
      ]
     },
     "metadata": {},
     "output_type": "display_data"
    }
   ],
   "source": [
    "plt.clf()\n",
    "acc_values = history_dict['acc']\n",
    "val_acc_values = history_dict['val_acc']\n",
    "plt.plot(epochs, acc_values, 'bo', label='Training acc')\n",
    "plt.plot(epochs, val_acc_values, 'b', label='Validation acc')\n",
    "plt.title('Training and validation accuracy')\n",
    "plt.xlabel('Epochs')\n",
    "plt.ylabel('Loss')\n",
    "plt.legend()\n",
    "plt.show()"
   ]
  },
  {
   "cell_type": "code",
   "execution_count": 16,
   "id": "c30066b5-dc07-4592-bc69-847868228572",
   "metadata": {},
   "outputs": [
    {
     "name": "stdout",
     "output_type": "stream",
     "text": [
      "Epoch 1/4\n",
      "49/49 [==============================] - 2s 14ms/step - loss: 0.6932 - accuracy: 0.4974\n",
      "Epoch 2/4\n",
      "49/49 [==============================] - 1s 12ms/step - loss: 0.6932 - accuracy: 0.4964\n",
      "Epoch 3/4\n",
      "49/49 [==============================] - 1s 12ms/step - loss: 0.6932 - accuracy: 0.4936\n",
      "Epoch 4/4\n",
      "49/49 [==============================] - 1s 11ms/step - loss: 0.6932 - accuracy: 0.4999\n",
      "782/782 [==============================] - 15s 3ms/step - loss: 0.6931 - accuracy: 0.5000\n"
     ]
    }
   ],
   "source": [
    "model = models.Sequential()\n",
    "model.add(layers.Dense(16, activation='relu', input_shape=(10000,)))\n",
    "model.add(layers.Dense(16, activation='relu'))\n",
    "model.add(layers.Dense(1, activation='sigmoid'))\n",
    "\n",
    "model.compile(optimizer='rmsprop',\n",
    "              loss='binary_crossentropy',\n",
    "              metrics=['accuracy'])\n",
    "\n",
    "model.fit(x_train, y_train, epochs=4, batch_size=512)\n",
    "\n",
    "results = model.evaluate(x_test, y_test)"
   ]
  },
  {
   "cell_type": "code",
   "execution_count": 17,
   "id": "0ecbe0d9-f561-4bc4-8089-c684791288fa",
   "metadata": {},
   "outputs": [
    {
     "data": {
      "text/plain": [
       "[0.6931489109992981, 0.5]"
      ]
     },
     "execution_count": 17,
     "metadata": {},
     "output_type": "execute_result"
    }
   ],
   "source": [
    " results"
   ]
  },
  {
   "cell_type": "code",
   "execution_count": null,
   "id": "632761a2-e80a-475f-af89-6dfb38126d49",
   "metadata": {},
   "outputs": [],
   "source": []
  }
 ],
 "metadata": {
  "kernelspec": {
   "display_name": "ml_venv",
   "language": "python",
   "name": "ml_venv"
  },
  "language_info": {
   "codemirror_mode": {
    "name": "ipython",
    "version": 3
   },
   "file_extension": ".py",
   "mimetype": "text/x-python",
   "name": "python",
   "nbconvert_exporter": "python",
   "pygments_lexer": "ipython3",
   "version": "3.10.11"
  }
 },
 "nbformat": 4,
 "nbformat_minor": 5
}
